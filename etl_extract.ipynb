{
 "cells": [
  {
   "cell_type": "code",
   "execution_count": null,
   "id": "5939d70f",
   "metadata": {},
   "outputs": [],
   "source": [
    "import pandas as pd\n",
    "from pathlib import Path\n",
    "\n",
    "# 1. Read the CSV files directly from the project folder\n",
    "df_raw = pd.read_csv(\"data/raw_data.csv\")\n",
    "df_inc = pd.read_csv(\"data/incremental_data.csv\")"
   ]
  },
  {
   "cell_type": "code",
   "execution_count": null,
   "id": "8c6812de",
   "metadata": {},
   "outputs": [],
   "source": [
    "# 2. Preview: .head(), .info() and describe\n",
    "# a. Head\n",
    "print(\"RAW DATA - head():\")\n",
    "display(df_raw.head())\n",
    "print(\"INCREMENTAL DATA - head():\")\n",
    "display(df_inc.head())\n",
    "\n",
    "# b. Info\n",
    "print(\"RAW DATA - info():\")\n",
    "df_raw.info()\n",
    "print(\"INCREMENTAL DATA - info():\")\n",
    "df_inc.info()\n",
    "\n",
    "# c. Describe\n",
    "print(\"RAW DATA - describe():\")\n",
    "display(df_raw.describe(include='all'))\n",
    "print(\"INCREMENTAL DATA - describe():\")\n",
    "display(df_inc.describe(include='all'))"
   ]
  },
  {
   "cell_type": "code",
   "execution_count": null,
   "id": "9abee8de",
   "metadata": {},
   "outputs": [],
   "source": [
    "# 3. Observations\n",
    "# Check for null values\n",
    "print(\"Missing values in RAW DATA:\")\n",
    "display(df_raw.isnull().sum())\n",
    "print(\"Missing values in INCREMENTAL DATA:\")\n",
    "display(df_inc.isnull().sum())\n",
    "\n",
    "# Check for duplicates\n",
    "print(\"Duplicate rows in RAW DATA:\")\n",
    "print(df_raw.duplicated().sum())\n",
    "print(\"Duplicate rows in INCREMENTAL DATA:\")\n",
    "print(df_inc.duplicated().sum())\n",
    "\n",
    "# Check data types\n",
    "print(\"Data types in RAW DATA:\")\n",
    "display(df_raw.dtypes)\n",
    "print(\"Data types in INCREMENTAL DATA:\")\n",
    "display(df_inc.dtypes)"
   ]
  },
  {
   "cell_type": "markdown",
   "id": "8d865a8f",
   "metadata": {},
   "source": [
    "I was able to identify the following data quality issues:\n",
    "- Missing values in both datasets.\n",
    "- Duplicate rows in both datasets.\n",
    "- Incorrect data types"
   ]
  },
  {
   "cell_type": "code",
   "execution_count": null,
   "id": "6c2e03c9",
   "metadata": {},
   "outputs": [],
   "source": [
    "# Merge datasets\n",
    "df_combined = pd.concat([df_raw, df_inc], ignore_index=True)\n",
    "df_combined.drop_duplicates(inplace=True)\n",
    "# Save to /data/\n",
    "df_combined.to_csv(\"data/merged_data.csv\", index=False)"
   ]
  },
  {
   "cell_type": "markdown",
   "id": "6ebbc510",
   "metadata": {},
   "source": [
    "The incremental dataset was merged with the raw dataset to ensure our analysis included all old and newly added records. It is vital for maintaining data completeness and supporting future transformations "
   ]
  }
 ],
 "metadata": {
  "kernelspec": {
   "display_name": "Python 3",
   "language": "python",
   "name": "python3"
  },
  "language_info": {
   "codemirror_mode": {
    "name": "ipython",
    "version": 3
   },
   "file_extension": ".py",
   "mimetype": "text/x-python",
   "name": "python",
   "nbconvert_exporter": "python",
   "pygments_lexer": "ipython3",
   "version": "3.13.9"
  }
 },
 "nbformat": 4,
 "nbformat_minor": 5
}

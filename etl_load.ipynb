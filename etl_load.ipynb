{
 "cells": [
  {
   "cell_type": "code",
   "execution_count": null,
   "id": "0a9193ab",
   "metadata": {},
   "outputs": [],
   "source": [
    "# Load transformed CSVs\n",
    "import pandas as pd\n",
    "import sqlite3\n",
    "\n",
    "df_full = pd.read_csv('transformed/transformed_full.csv')\n",
    "df_incremental = pd.read_csv('transformed/transformed_incremental.csv')\n",
    "\n",
    "# Saving to SQLite\n",
    "conn = sqlite3.connect('loaded/full_data.db')\n",
    "df_full.to_sql('full_data', conn, if_exists='replace', index=False)\n",
    "df_incremental.to_sql('incremental_data', conn, if_exists='replace', index=False)\n",
    "# Preview 5 rows from SQLite\n",
    "pd.read_sql('SELECT * FROM full_data LIMIT 5', conn)"
   ]
  }
 ],
 "metadata": {
  "kernelspec": {
   "display_name": "Python 3",
   "language": "python",
   "name": "python3"
  },
  "language_info": {
   "codemirror_mode": {
    "name": "ipython",
    "version": 3
   },
   "file_extension": ".py",
   "mimetype": "text/x-python",
   "name": "python",
   "nbconvert_exporter": "python",
   "pygments_lexer": "ipython3",
   "version": "3.13.9"
  }
 },
 "nbformat": 4,
 "nbformat_minor": 5
}
